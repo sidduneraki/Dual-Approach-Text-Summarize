{
  "nbformat": 4,
  "nbformat_minor": 0,
  "metadata": {
    "colab": {
      "provenance": []
    },
    "kernelspec": {
      "name": "python3",
      "display_name": "Python 3"
    },
    "language_info": {
      "name": "python"
    }
  },
  "cells": [
    {
      "cell_type": "code",
      "source": [
        "!pip install transformers"
      ],
      "metadata": {
        "id": "1xxY6fbuUU5q"
      },
      "execution_count": null,
      "outputs": []
    },
    {
      "cell_type": "code",
      "source": [
        "from transformers import BartForConditionalGeneration, BartTokenizer\n"
      ],
      "metadata": {
        "id": "MOTM_O4sVeLk"
      },
      "execution_count": null,
      "outputs": []
    },
    {
      "cell_type": "code",
      "source": [
        "model_name='facebook/bart-large-cnn'\n",
        "tokenizer =BartTokenizer.from_pretrained(model_name)\n",
        "model = BartForConditionalGeneration.from_pretrained(model_name)"
      ],
      "metadata": {
        "id": "qi0AeS3KVg_L"
      },
      "execution_count": null,
      "outputs": []
    },
    {
      "cell_type": "code",
      "source": [
        "text = \"\"\"Artificial intelligence (AI) and robotics have emerged as revolutionary technologies with the potential to transform various aspects of society and the economy. By integrating AI into robotics, machines can now autonomously perceive, reason, and act in complex environments, leading to the development of advanced robotic systems in industries such as manufacturing, healthcare, and logistics. Moreover, the intersection of AI and robotics has opened up new possibilities in fields such as human-robot interaction, social robotics, and cognitive robotics. As a result, there has been a growing body of research investigating the latest advancements, challenges, and potential applications of AI in robotics. In this review paper, our goal is to provide an overview of the current state of AI in robotics, highlighting research trends, technical approaches, and real-world use cases, while also addressing ethical, social, and economic implications of this rapidly evolving field. Through this review, we aim to contribute to the understanding of the current landscape and future prospects of AI in robotics, shedding light on the opportunities and challenges associated with this cutting-edge technology.\"\"\"\n"
      ],
      "metadata": {
        "id": "p0H9xO8XV8Cq"
      },
      "execution_count": null,
      "outputs": []
    },
    {
      "cell_type": "code",
      "source": [
        "inputs = tokenizer.encode(text, return_tensors='pt', max_length=1024, truncation=True)\n"
      ],
      "metadata": {
        "id": "y8MCtYJ4W7XK"
      },
      "execution_count": null,
      "outputs": []
    },
    {
      "cell_type": "code",
      "source": [
        "summary=model.generate(inputs,max_length=130,min_length=30,length_penalty=2.0,num_beams=4,early_stopping=True)"
      ],
      "metadata": {
        "id": "cuV4ry5eX66m"
      },
      "execution_count": null,
      "outputs": []
    },
    {
      "cell_type": "code",
      "source": [
        "summary_d=tokenizer.decode(summary[0],skip_special_tokens=True)\n"
      ],
      "metadata": {
        "id": "OY-dZoz8YZxV"
      },
      "execution_count": null,
      "outputs": []
    },
    {
      "cell_type": "code",
      "source": [
        "summary_d\n"
      ],
      "metadata": {
        "id": "ynJYCqOkYxoA",
        "colab": {
          "base_uri": "https://localhost:8080/",
          "height": 72
        },
        "outputId": "81537f80-ae00-45ac-e4a7-b118b3ac14a9"
      },
      "execution_count": null,
      "outputs": [
        {
          "output_type": "execute_result",
          "data": {
            "text/plain": [
              "'Artificial intelligence (AI) and robotics have emerged as revolutionary technologies. By integrating AI into robotics, machines can now autonomously perceive, reason, and act in complex environments. The intersection of AI and robotics has opened up new possibilities in fields such as human-robot interaction, social robotics, and cognitive robotics.'"
            ],
            "application/vnd.google.colaboratory.intrinsic+json": {
              "type": "string"
            }
          },
          "metadata": {},
          "execution_count": 21
        }
      ]
    },
    {
      "cell_type": "code",
      "source": [],
      "metadata": {
        "id": "-qnjYln_bBxO"
      },
      "execution_count": null,
      "outputs": []
    }
  ]
}