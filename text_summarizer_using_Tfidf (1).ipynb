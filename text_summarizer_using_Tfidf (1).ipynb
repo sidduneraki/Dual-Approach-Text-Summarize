{
  "nbformat": 4,
  "nbformat_minor": 0,
  "metadata": {
    "colab": {
      "provenance": []
    },
    "kernelspec": {
      "name": "python3",
      "display_name": "Python 3"
    },
    "language_info": {
      "name": "python"
    }
  },
  "cells": [
    {
      "cell_type": "code",
      "source": [
        "import nltk\n",
        "from nltk.tokenize import word_tokenize\n",
        "from nltk.corpus import stopwords\n",
        "import string"
      ],
      "metadata": {
        "id": "6OJDGbJ7USnB"
      },
      "execution_count": null,
      "outputs": []
    },
    {
      "cell_type": "code",
      "source": [
        "nltk.download(\"punkt\")\n",
        "nltk.download('punkt_tab')\n",
        "nltk.download(\"stopwords\")"
      ],
      "metadata": {
        "colab": {
          "base_uri": "https://localhost:8080/"
        },
        "id": "zvyoAqgCVShT",
        "outputId": "7308a8ae-e08f-455e-95fd-5c587193d13e"
      },
      "execution_count": null,
      "outputs": [
        {
          "output_type": "stream",
          "name": "stderr",
          "text": [
            "[nltk_data] Downloading package punkt to /root/nltk_data...\n",
            "[nltk_data]   Package punkt is already up-to-date!\n",
            "[nltk_data] Downloading package punkt_tab to /root/nltk_data...\n",
            "[nltk_data]   Unzipping tokenizers/punkt_tab.zip.\n",
            "[nltk_data] Downloading package stopwords to /root/nltk_data...\n",
            "[nltk_data]   Package stopwords is already up-to-date!\n"
          ]
        },
        {
          "output_type": "execute_result",
          "data": {
            "text/plain": [
              "True"
            ]
          },
          "metadata": {},
          "execution_count": 6
        }
      ]
    },
    {
      "cell_type": "code",
      "source": [
        "data=\"Artificial intelligence (AI) and robotics have emerged as revolutionary technologies with the potential to transform various aspects of society and the economy. By integrating AI into robotics, machines can now autonomously perceive, reason, and act in complex environments, leading to the development of advanced robotic systems in industries such as manufacturing, healthcare, and logistics. Moreover, the intersection of AI and robotics has opened up new possibilities in fields such as human-robot interaction, social robotics, and cognitive robotics. As a result, there has been a growing body of research investigating the latest advancements, challenges, and potential applications of AI in robotics. In this review paper, our goal is to provide an overview of the current state of AI in robotics, highlighting research trends, technical approaches, and real-world use cases, while also addressing ethical, social, and economic implications of this rapidly evolving field. Through this review, we aim to contribute to the understanding of the current landscape and future prospects of AI in robotics, shedding light on the opportunities and challenges associated with this cutting-edge technology.\""
      ],
      "metadata": {
        "id": "MWUxX_sxUMgt"
      },
      "execution_count": null,
      "outputs": []
    },
    {
      "cell_type": "code",
      "source": [
        "from nltk.tokenize import sent_tokenize"
      ],
      "metadata": {
        "id": "SE5dDz_3aslM"
      },
      "execution_count": null,
      "outputs": []
    },
    {
      "cell_type": "code",
      "source": [
        "tokens=sent_tokenize(data)"
      ],
      "metadata": {
        "id": "aOtt-r19a5r_"
      },
      "execution_count": null,
      "outputs": []
    },
    {
      "cell_type": "code",
      "source": [
        "from sklearn.feature_extraction.text import TfidfVectorizer"
      ],
      "metadata": {
        "id": "Z415oni9YjAO"
      },
      "execution_count": null,
      "outputs": []
    },
    {
      "cell_type": "code",
      "source": [
        "vectorizer=TfidfVectorizer()"
      ],
      "metadata": {
        "id": "ArwSqL_1ZiXC"
      },
      "execution_count": null,
      "outputs": []
    },
    {
      "cell_type": "code",
      "source": [
        "x=vectorizer.fit_transform(tokens)"
      ],
      "metadata": {
        "id": "2I7urx6zZzMV"
      },
      "execution_count": null,
      "outputs": []
    },
    {
      "cell_type": "code",
      "source": [
        "x"
      ],
      "metadata": {
        "colab": {
          "base_uri": "https://localhost:8080/"
        },
        "id": "XAAtpnbJbdAb",
        "outputId": "a5ede7a3-1968-4ae6-8487-da60003caf5e"
      },
      "execution_count": null,
      "outputs": [
        {
          "output_type": "execute_result",
          "data": {
            "text/plain": [
              "<Compressed Sparse Row sparse matrix of dtype 'float64'\n",
              "\twith 156 stored elements and shape (6, 111)>"
            ]
          },
          "metadata": {},
          "execution_count": 22
        }
      ]
    },
    {
      "cell_type": "code",
      "source": [
        "import numpy as np\n",
        "sentences_scores=x.sum(axis=1).A1"
      ],
      "metadata": {
        "id": "Peyf1dXLbe-9"
      },
      "execution_count": null,
      "outputs": []
    },
    {
      "cell_type": "code",
      "source": [
        "top_n=3\n",
        "top_indices=np.argsort(sentences_scores)[-top_n:]"
      ],
      "metadata": {
        "id": "5e6WLuB4fP9E"
      },
      "execution_count": null,
      "outputs": []
    },
    {
      "cell_type": "code",
      "source": [
        "top_indices=sorted(top_indices)"
      ],
      "metadata": {
        "id": "SGutNuBrhq6u"
      },
      "execution_count": null,
      "outputs": []
    },
    {
      "cell_type": "code",
      "source": [
        "summary= [tokens[i] for i in top_indices]"
      ],
      "metadata": {
        "id": "j5tRuKVshsc7"
      },
      "execution_count": null,
      "outputs": []
    },
    {
      "cell_type": "code",
      "source": [
        "summary"
      ],
      "metadata": {
        "colab": {
          "base_uri": "https://localhost:8080/"
        },
        "id": "LgJgIN8cigKr",
        "outputId": "30a533a4-af22-487a-8d34-72a718d0fd6a"
      },
      "execution_count": null,
      "outputs": [
        {
          "output_type": "execute_result",
          "data": {
            "text/plain": [
              "['By integrating AI into robotics, machines can now autonomously perceive, reason, and act in complex environments, leading to the development of advanced robotic systems in industries such as manufacturing, healthcare, and logistics.',\n",
              " 'In this review paper, our goal is to provide an overview of the current state of AI in robotics, highlighting research trends, technical approaches, and real-world use cases, while also addressing ethical, social, and economic implications of this rapidly evolving field.',\n",
              " 'Through this review, we aim to contribute to the understanding of the current landscape and future prospects of AI in robotics, shedding light on the opportunities and challenges associated with this cutting-edge technology.']"
            ]
          },
          "metadata": {},
          "execution_count": 44
        }
      ]
    },
    {
      "cell_type": "code",
      "source": [],
      "metadata": {
        "id": "s41XSZdZiiJi"
      },
      "execution_count": null,
      "outputs": []
    }
  ]
}